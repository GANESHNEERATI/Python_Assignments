{
 "cells": [
  {
   "cell_type": "markdown",
   "metadata": {},
   "source": [
    "1.1 Write a Python Program to implement your own myreduce() function which works exactly\n",
    "like Python's built-in function reduce()"
   ]
  },
  {
   "cell_type": "code",
   "execution_count": 3,
   "metadata": {},
   "outputs": [
    {
     "name": "stdout",
     "output_type": "stream",
     "text": [
      "list after sum:27\n"
     ]
    }
   ],
   "source": [
    "def add(li):\n",
    "  sum=0\n",
    "  for i in li:\n",
    "    sum=sum+i\n",
    "  return sum\n",
    "        \n",
    "def myreduce(add,li):\n",
    "    sum=add(li)\n",
    "    return sum\n",
    "\n",
    "\n",
    "\n",
    "list_sum=myreduce(add,[1,7,9,10])\n",
    "print(\"list after sum:{}\".format(list_sum))\n",
    "    \n",
    "    "
   ]
  },
  {
   "cell_type": "markdown",
   "metadata": {},
   "source": [
    "1.2Write a Python program to implement your own myfilter() function which works exactly\n",
    "like Python's built-in function filter()"
   ]
  },
  {
   "cell_type": "code",
   "execution_count": 5,
   "metadata": {},
   "outputs": [
    {
     "name": "stdout",
     "output_type": "stream",
     "text": [
      "2\n"
     ]
    }
   ],
   "source": [
    "def find_count_of_vowels(letters):\n",
    "    count=0;\n",
    "    vowels=['a','e','i','o','u']\n",
    "    for let in letters:\n",
    "        if(let in vowels):\n",
    "            count=count+1;\n",
    "    return count\n",
    "\n",
    "def myfilter(find_count_of_vowels,letters):\n",
    "    count=find_count_of_vowels(letters)\n",
    "    return count\n",
    "\n",
    "vowel_Count=myfilter(find_count_of_vowels,['h','a','d','d','e'])\n",
    "print(vowel_Count)\n"
   ]
  },
  {
   "cell_type": "markdown",
   "metadata": {},
   "source": [
    "2. Implement List comprehensions to produce the following lists.\n",
    "Write List comprehensions to produce the following Lists\n",
    "['A', 'C', 'A', 'D', 'G', 'I', 'L', 'D']\n",
    "['x', 'xx', 'xxx', 'xxxx', 'y', 'yy', 'yyy', 'yyyy', 'z', 'zz', 'zzz', 'zzzz']\n",
    "['x', 'y', 'z', 'xx', 'yy', 'zz', 'xxx', 'yyy', 'zzz', 'xxxx', 'yyyy', 'zzzz']\n",
    "[[2], [3], [4], [3], [4], [5], [4], [5], [6]] [[2, 3, 4, 5], [3, 4, 5, 6],\n",
    "[4, 5, 6, 7], [5, 6, 7, 8]]\n",
    "[(1, 1), (2, 1), (3, 1), (1, 2), (2, 2), (3, 2), (1, 3), (2, 3), (3, 3)]"
   ]
  },
  {
   "cell_type": "code",
   "execution_count": 6,
   "metadata": {},
   "outputs": [
    {
     "name": "stdout",
     "output_type": "stream",
     "text": [
      "['A', 'C', 'A', 'D', 'G', 'I', 'L', 'D']\n",
      "['x', 'xx', 'xxx', 'xxxx', 'y', 'yy', 'yyy', 'yyyy', 'z', 'zz', 'zzz', 'zzzz']\n",
      "['x', 'y', 'z', 'xx', 'yy', 'zz', 'xxx', 'yyy', 'zzz', 'xxxx', 'yyyy', 'zzzz']\n",
      "[[2], [3], [4], [3], [4], [5], [4], [5], [6]]\n",
      "[[2, 3, 4, 5], [3, 4, 5, 6], [4, 5, 6, 7], [5, 6, 7, 8]]\n",
      "[(1, 1), (1, 2), (1, 3), (2, 1), (2, 2), (2, 3), (3, 1), (3, 2), (3, 3)]\n"
     ]
    }
   ],
   "source": [
    "word=\"ACADGILD\"\n",
    "word_ouput=[item for item in word]\n",
    "print(word_ouput)\n",
    "\n",
    "list1=['x','y','z']\n",
    "list2_ouput=[num*item for item in list1 for num in range(1,5) ]\n",
    "print(list2_ouput)\n",
    "list1_output=[num*item for num in range(1,5) for item in list1]\n",
    "print(list1_output)\n",
    "num_list3 = [2,3,4]\n",
    "num_list3_output = [ [item+num] for item in num_list3 for num in range(0,3)]\n",
    "print(str(num_list3_output))\n",
    "num_list4=[2,3,4,5]\n",
    "num_list4_output=[[item+num for item in num_list4] for num in range(0,4)]\n",
    "print(num_list4_output)\n",
    "num_list2=[1,2,3]\n",
    "num_list2_output=[(a,b) for a  in num_list2 for b in num_list2]\n",
    "print(num_list2_output)\n"
   ]
  },
  {
   "cell_type": "code",
   "execution_count": null,
   "metadata": {},
   "outputs": [],
   "source": []
  }
 ],
 "metadata": {
  "kernelspec": {
   "display_name": "Python 3",
   "language": "python",
   "name": "python3"
  },
  "language_info": {
   "codemirror_mode": {
    "name": "ipython",
    "version": 3
   },
   "file_extension": ".py",
   "mimetype": "text/x-python",
   "name": "python",
   "nbconvert_exporter": "python",
   "pygments_lexer": "ipython3",
   "version": "3.7.3"
  }
 },
 "nbformat": 4,
 "nbformat_minor": 2
}
